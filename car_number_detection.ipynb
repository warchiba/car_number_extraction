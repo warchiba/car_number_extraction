{
  "nbformat": 4,
  "nbformat_minor": 0,
  "metadata": {
    "colab": {
      "provenance": []
    },
    "kernelspec": {
      "name": "python3",
      "display_name": "Python 3"
    },
    "language_info": {
      "name": "python"
    },
    "accelerator": "GPU",
    "gpuClass": "standard"
  },
  "cells": [
    {
      "cell_type": "code",
      "execution_count": 1,
      "metadata": {
        "id": "S7x0JXzd1SC3"
      },
      "outputs": [],
      "source": [
        "import tensorflow as tf\n",
        "import numpy as np\n",
        "import matplotlib.pyplot as plt\n",
        "from tensorflow.keras.preprocessing.image import ImageDataGenerator\n",
        "from mnist import MNIST\n",
        "from emnist import extract_training_samples, list_datasets, extract_test_samples"
      ]
    },
    {
      "cell_type": "code",
      "source": [
        "train_images, train_labels = extract_training_samples('byclass')"
      ],
      "metadata": {
        "id": "TGY2naWJ1mPz"
      },
      "execution_count": 2,
      "outputs": []
    },
    {
      "cell_type": "code",
      "source": [
        "test_images, test_labels = extract_test_samples('byclass')"
      ],
      "metadata": {
        "id": "sobE-YlU1tqa"
      },
      "execution_count": 3,
      "outputs": []
    },
    {
      "cell_type": "code",
      "source": [
        "train_images = tf.keras.utils.normalize(train_images, axis = 1)\n",
        "test_images = tf.keras.utils.normalize(test_images, axis = 1)\n",
        "\n",
        "train_images = np.expand_dims(train_images, axis=3)\n",
        "test_images = np.expand_dims(test_images, axis=3)"
      ],
      "metadata": {
        "id": "1JQWf_MB2BmY"
      },
      "execution_count": 4,
      "outputs": []
    },
    {
      "cell_type": "code",
      "source": [
        "train_datagen = ImageDataGenerator(rotation_range=15,\n",
        "                             width_shift_range=0.10,\n",
        "                             height_shift_range=0.10)\n",
        "\n",
        "train_datagen.fit(train_images.reshape(train_images.shape[0], 28, 28, 1))"
      ],
      "metadata": {
        "id": "Pa0q7gav2EOa"
      },
      "execution_count": 5,
      "outputs": []
    },
    {
      "cell_type": "code",
      "source": [
        "val_datagen = ImageDataGenerator()\n",
        "val_datagen.fit(test_images.reshape(test_images.shape[0], 28, 28, 1))"
      ],
      "metadata": {
        "id": "DDrGioBy2Sfw"
      },
      "execution_count": 6,
      "outputs": []
    },
    {
      "cell_type": "code",
      "source": [
        "model = tf.keras.Sequential([\n",
        "    tf.keras.layers.Conv2D(32, kernel_size=(3, 3), activation='relu', input_shape=(28, 28, 1), padding='same'),\n",
        "    tf.keras.layers.MaxPooling2D((2, 2)),\n",
        "    \n",
        "    tf.keras.layers.Conv2D(64, (3,3), activation='relu'),\n",
        "    tf.keras.layers.MaxPooling2D(2,2),\n",
        "\n",
        "    tf.keras.layers.Conv2D(128, (3,3), activation='relu'),\n",
        "    tf.keras.layers.MaxPooling2D(2,2),\n",
        "\n",
        "    tf.keras.layers.Dropout(0.2),\n",
        "    \n",
        "    tf.keras.layers.Flatten(),\n",
        "    tf.keras.layers.Dense(256, activation='relu'),\n",
        "    tf.keras.layers.Dense(128, activation='relu'),\n",
        "    tf.keras.layers.Dense(62, activation = 'softmax')\n",
        "])"
      ],
      "metadata": {
        "id": "IU4gDvqc2ZMZ"
      },
      "execution_count": 7,
      "outputs": []
    },
    {
      "cell_type": "code",
      "source": [
        "model.summary()"
      ],
      "metadata": {
        "colab": {
          "base_uri": "https://localhost:8080/"
        },
        "id": "brsZt3RB2cRB",
        "outputId": "0ca18568-e7d2-4468-f798-dbe4de366c5d"
      },
      "execution_count": 8,
      "outputs": [
        {
          "output_type": "stream",
          "name": "stdout",
          "text": [
            "Model: \"sequential\"\n",
            "_________________________________________________________________\n",
            " Layer (type)                Output Shape              Param #   \n",
            "=================================================================\n",
            " conv2d (Conv2D)             (None, 28, 28, 32)        320       \n",
            "                                                                 \n",
            " max_pooling2d (MaxPooling2D  (None, 14, 14, 32)       0         \n",
            " )                                                               \n",
            "                                                                 \n",
            " conv2d_1 (Conv2D)           (None, 12, 12, 64)        18496     \n",
            "                                                                 \n",
            " max_pooling2d_1 (MaxPooling  (None, 6, 6, 64)         0         \n",
            " 2D)                                                             \n",
            "                                                                 \n",
            " conv2d_2 (Conv2D)           (None, 4, 4, 128)         73856     \n",
            "                                                                 \n",
            " max_pooling2d_2 (MaxPooling  (None, 2, 2, 128)        0         \n",
            " 2D)                                                             \n",
            "                                                                 \n",
            " dropout (Dropout)           (None, 2, 2, 128)         0         \n",
            "                                                                 \n",
            " flatten (Flatten)           (None, 512)               0         \n",
            "                                                                 \n",
            " dense (Dense)               (None, 256)               131328    \n",
            "                                                                 \n",
            " dense_1 (Dense)             (None, 128)               32896     \n",
            "                                                                 \n",
            " dense_2 (Dense)             (None, 62)                7998      \n",
            "                                                                 \n",
            "=================================================================\n",
            "Total params: 264,894\n",
            "Trainable params: 264,894\n",
            "Non-trainable params: 0\n",
            "_________________________________________________________________\n"
          ]
        }
      ]
    },
    {
      "cell_type": "code",
      "source": [
        "model.compile(optimizer='adam',\n",
        "              loss=tf.keras.losses.SparseCategoricalCrossentropy(),\n",
        "              metrics=['accuracy'])"
      ],
      "metadata": {
        "id": "ynCAopYo2exL"
      },
      "execution_count": 9,
      "outputs": []
    },
    {
      "cell_type": "code",
      "source": [
        "history = model.fit(train_datagen.flow(train_images, train_labels, batch_size=1024),\n",
        "         validation_data= val_datagen.flow(test_images, test_labels,\n",
        "         batch_size=32), epochs= 20)"
      ],
      "metadata": {
        "colab": {
          "base_uri": "https://localhost:8080/"
        },
        "id": "ImrxTfhx2hbM",
        "outputId": "d50aaa62-a4f0-4af4-cc8f-39ea5003c6f4"
      },
      "execution_count": 10,
      "outputs": [
        {
          "output_type": "stream",
          "name": "stdout",
          "text": [
            "Epoch 1/20\n",
            "682/682 [==============================] - 175s 243ms/step - loss: 1.0864 - accuracy: 0.6832 - val_loss: 0.4804 - val_accuracy: 0.8325\n",
            "Epoch 2/20\n",
            "682/682 [==============================] - 166s 243ms/step - loss: 0.5614 - accuracy: 0.8079 - val_loss: 0.4354 - val_accuracy: 0.8445\n",
            "Epoch 3/20\n",
            "682/682 [==============================] - 161s 237ms/step - loss: 0.4990 - accuracy: 0.8252 - val_loss: 0.4074 - val_accuracy: 0.8522\n",
            "Epoch 4/20\n",
            "682/682 [==============================] - 160s 235ms/step - loss: 0.4682 - accuracy: 0.8340 - val_loss: 0.3898 - val_accuracy: 0.8572\n",
            "Epoch 5/20\n",
            "682/682 [==============================] - 160s 235ms/step - loss: 0.4466 - accuracy: 0.8402 - val_loss: 0.3827 - val_accuracy: 0.8592\n",
            "Epoch 6/20\n",
            "682/682 [==============================] - 163s 239ms/step - loss: 0.4324 - accuracy: 0.8440 - val_loss: 0.3728 - val_accuracy: 0.8620\n",
            "Epoch 7/20\n",
            "682/682 [==============================] - 169s 247ms/step - loss: 0.4212 - accuracy: 0.8469 - val_loss: 0.3778 - val_accuracy: 0.8603\n",
            "Epoch 8/20\n",
            "682/682 [==============================] - 168s 246ms/step - loss: 0.4123 - accuracy: 0.8498 - val_loss: 0.3658 - val_accuracy: 0.8630\n",
            "Epoch 9/20\n",
            "682/682 [==============================] - 168s 247ms/step - loss: 0.4063 - accuracy: 0.8515 - val_loss: 0.3631 - val_accuracy: 0.8642\n",
            "Epoch 10/20\n",
            "682/682 [==============================] - 168s 247ms/step - loss: 0.4000 - accuracy: 0.8533 - val_loss: 0.3610 - val_accuracy: 0.8641\n",
            "Epoch 11/20\n",
            "682/682 [==============================] - 169s 247ms/step - loss: 0.3945 - accuracy: 0.8548 - val_loss: 0.3659 - val_accuracy: 0.8628\n",
            "Epoch 12/20\n",
            "682/682 [==============================] - 169s 247ms/step - loss: 0.3906 - accuracy: 0.8560 - val_loss: 0.3576 - val_accuracy: 0.8657\n",
            "Epoch 13/20\n",
            "682/682 [==============================] - 169s 248ms/step - loss: 0.3872 - accuracy: 0.8571 - val_loss: 0.3570 - val_accuracy: 0.8659\n",
            "Epoch 14/20\n",
            "682/682 [==============================] - 169s 248ms/step - loss: 0.3832 - accuracy: 0.8585 - val_loss: 0.3656 - val_accuracy: 0.8614\n",
            "Epoch 15/20\n",
            "682/682 [==============================] - 169s 248ms/step - loss: 0.3804 - accuracy: 0.8589 - val_loss: 0.3587 - val_accuracy: 0.8654\n",
            "Epoch 16/20\n",
            "682/682 [==============================] - 168s 247ms/step - loss: 0.3776 - accuracy: 0.8596 - val_loss: 0.3594 - val_accuracy: 0.8644\n",
            "Epoch 17/20\n",
            "682/682 [==============================] - 169s 247ms/step - loss: 0.3755 - accuracy: 0.8602 - val_loss: 0.3443 - val_accuracy: 0.8700\n",
            "Epoch 18/20\n",
            "682/682 [==============================] - 170s 250ms/step - loss: 0.3737 - accuracy: 0.8606 - val_loss: 0.3622 - val_accuracy: 0.8623\n",
            "Epoch 19/20\n",
            "682/682 [==============================] - 170s 249ms/step - loss: 0.3719 - accuracy: 0.8613 - val_loss: 0.3521 - val_accuracy: 0.8665\n",
            "Epoch 20/20\n",
            "682/682 [==============================] - 170s 249ms/step - loss: 0.3696 - accuracy: 0.8621 - val_loss: 0.3437 - val_accuracy: 0.8700\n"
          ]
        }
      ]
    },
    {
      "cell_type": "code",
      "source": [
        "model.save('car_number_model.h5')"
      ],
      "metadata": {
        "id": "TP73Lfot2jPW"
      },
      "execution_count": 12,
      "outputs": []
    },
    {
      "cell_type": "code",
      "source": [],
      "metadata": {
        "colab": {
          "base_uri": "https://localhost:8080/"
        },
        "id": "hkDQk4l4SWAr",
        "outputId": "fab0dc09-092d-4869-f434-bcff7b2823a0"
      },
      "execution_count": 15,
      "outputs": [
        {
          "output_type": "execute_result",
          "data": {
            "text/plain": [
              "<keras.engine.sequential.Sequential at 0x7f4ff648fd90>"
            ]
          },
          "metadata": {},
          "execution_count": 15
        }
      ]
    },
    {
      "cell_type": "code",
      "source": [],
      "metadata": {
        "id": "RcKrIkx-Slqf"
      },
      "execution_count": null,
      "outputs": []
    }
  ]
}